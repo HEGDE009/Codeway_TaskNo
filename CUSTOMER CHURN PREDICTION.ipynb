{
 "cells": [
  {
   "cell_type": "markdown",
   "id": "5063a7ad",
   "metadata": {},
   "source": [
    "# CUSTOMER CHURN PREDICTION\n",
    "\n",
    "Develop a model to predict customer churn for a subscription- based\n",
    "service or business. Use historical customer data, including features like\n",
    "usage behavior and customer demographics, and try algorithms like\n",
    "Logistic Regression, Random Forests, or Gradient Boosting to predict\n",
    "churn."
   ]
  },
  {
   "cell_type": "code",
   "execution_count": 2,
   "id": "25c91b1c",
   "metadata": {},
   "outputs": [],
   "source": [
    "import pandas as pd\n",
    "from sklearn.model_selection import train_test_split\n",
    "from sklearn.preprocessing import StandardScaler, LabelEncoder\n",
    "from sklearn.linear_model import LogisticRegression\n",
    "from sklearn.metrics import accuracy_score, confusion_matrix, classification_report"
   ]
  },
  {
   "cell_type": "code",
   "execution_count": 3,
   "id": "fc8553db",
   "metadata": {},
   "outputs": [],
   "source": [
    "# Load the dataset\n",
    "dataset = pd.read_csv('Churn_Modelling.csv')"
   ]
  },
  {
   "cell_type": "code",
   "execution_count": 4,
   "id": "18a8985c",
   "metadata": {},
   "outputs": [],
   "source": [
    "# Drop unnecessary columns\n",
    "columns_to_drop = ['RowNumber', 'CustomerId', 'Surname']\n",
    "dataset.drop(columns=columns_to_drop, inplace=True)"
   ]
  },
  {
   "cell_type": "code",
   "execution_count": 5,
   "id": "c6ffad22",
   "metadata": {},
   "outputs": [],
   "source": [
    "# Encoding\n",
    "label_encoder = LabelEncoder()\n",
    "dataset['Gender'] = label_encoder.fit_transform(dataset['Gender'])\n",
    "dataset = pd.get_dummies(dataset, columns=['Geography'], drop_first=True)"
   ]
  },
  {
   "cell_type": "code",
   "execution_count": 6,
   "id": "515e320a",
   "metadata": {},
   "outputs": [],
   "source": [
    "# Separating as X and Y\n",
    "X = dataset.drop('Exited', axis=1)\n",
    "y = dataset['Exited']"
   ]
  },
  {
   "cell_type": "code",
   "execution_count": 7,
   "id": "3d0c07ac",
   "metadata": {},
   "outputs": [],
   "source": [
    "# Split the data into train and test\n",
    "X_train, X_test, y_train, y_test = train_test_split(X, y, test_size=0.2, random_state=42)"
   ]
  },
  {
   "cell_type": "code",
   "execution_count": 8,
   "id": "67ee4135",
   "metadata": {},
   "outputs": [],
   "source": [
    "# Standardize numerical features\n",
    "numerical_features = ['CreditScore', 'Age', 'Tenure', 'Balance', 'NumOfProducts', 'HasCrCard', 'IsActiveMember', 'EstimatedSalary']\n",
    "scaler = StandardScaler()\n",
    "X_train[numerical_features] = scaler.fit_transform(X_train[numerical_features])\n",
    "X_test[numerical_features] = scaler.transform(X_test[numerical_features])\n"
   ]
  },
  {
   "cell_type": "code",
   "execution_count": 9,
   "id": "5e0018fc",
   "metadata": {},
   "outputs": [],
   "source": [
    "# Train Logistic Regression model\n",
    "model_lr = LogisticRegression(random_state=42)\n",
    "model_lr.fit(X_train, y_train)\n",
    "predictions_lr = model_lr.predict(X_test)"
   ]
  },
  {
   "cell_type": "code",
   "execution_count": 13,
   "id": "57d31bd0",
   "metadata": {},
   "outputs": [
    {
     "name": "stdout",
     "output_type": "stream",
     "text": [
      "      Churn Prediction\n",
      "1975             False\n",
      "1976             False\n",
      "1977             False\n",
      "1978             False\n",
      "1979             False\n",
      "1980             False\n",
      "1981             False\n",
      "1982             False\n",
      "1983             False\n",
      "1984             False\n",
      "1985             False\n",
      "1986             False\n",
      "1987             False\n",
      "1988             False\n",
      "1989             False\n",
      "1990             False\n",
      "1991             False\n",
      "1992             False\n",
      "1993             False\n",
      "1994             False\n",
      "1995             False\n",
      "1996             False\n",
      "1997             False\n",
      "1998             False\n",
      "1999             False\n"
     ]
    }
   ],
   "source": [
    "# Display Churn Predictions as True or False\n",
    "churn_predictions = pd.DataFrame({'Churn Prediction': predictions_lr == 1})\n",
    "print(churn_predictions.tail(25))\n"
   ]
  },
  {
   "cell_type": "code",
   "execution_count": null,
   "id": "90296f12",
   "metadata": {},
   "outputs": [],
   "source": []
  },
  {
   "cell_type": "code",
   "execution_count": null,
   "id": "623cb929",
   "metadata": {},
   "outputs": [],
   "source": []
  }
 ],
 "metadata": {
  "kernelspec": {
   "display_name": "Python 3 (ipykernel)",
   "language": "python",
   "name": "python3"
  },
  "language_info": {
   "codemirror_mode": {
    "name": "ipython",
    "version": 3
   },
   "file_extension": ".py",
   "mimetype": "text/x-python",
   "name": "python",
   "nbconvert_exporter": "python",
   "pygments_lexer": "ipython3",
   "version": "3.11.5"
  }
 },
 "nbformat": 4,
 "nbformat_minor": 5
}
