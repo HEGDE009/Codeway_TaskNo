{
 "cells": [
  {
   "cell_type": "markdown",
   "id": "5c4e4fc2",
   "metadata": {},
   "source": [
    "# MOVIE GENRE CLASSIFICATION\n",
    "\n",
    "Create a machine learning model that can predict the genre of a\n",
    "movie based on its plot summary or other textual information. You\n",
    "can use techniques like TF-IDF or word embeddings with classifiers\n",
    "such as Naive Bayes, Logistic Regression, or Support Vector\n",
    "Machines."
   ]
  },
  {
   "cell_type": "code",
   "execution_count": 21,
   "id": "b06787c3",
   "metadata": {},
   "outputs": [],
   "source": [
    "import pandas as pd\n",
    "from sklearn.feature_extraction.text import TfidfVectorizer\n",
    "from sklearn.model_selection import train_test_split\n",
    "from sklearn.naive_bayes import MultinomialNB\n",
    "from sklearn.metrics import accuracy_score, classification_report\n"
   ]
  },
  {
   "cell_type": "code",
   "execution_count": null,
   "id": "8941d239",
   "metadata": {},
   "outputs": [],
   "source": []
  },
  {
   "cell_type": "code",
   "execution_count": 22,
   "id": "34a4389f",
   "metadata": {},
   "outputs": [],
   "source": [
    "# Load Train Data\n",
    "train_df = pd.read_csv('train_data.txt', sep=':::', engine='python', names=['ID', 'TITLE', 'GENRE', 'DESCRIPTION'])\n",
    "\n",
    "# Load Test Data\n",
    "test_df = pd.read_csv('test_data.txt', sep=':::', engine='python', names=['ID', 'TITLE', 'DESCRIPTION'])\n"
   ]
  },
  {
   "cell_type": "code",
   "execution_count": 23,
   "id": "611cee9b",
   "metadata": {},
   "outputs": [],
   "source": [
    "# Split Data into Train and Test Sets\n",
    "X_train, y_train = train_df['DESCRIPTION'], train_df['GENRE']\n",
    "X_test = test_df['DESCRIPTION']\n",
    "\n",
    "# TF-IDF Vectorization\n",
    "tfidf_vectorizer = TfidfVectorizer(max_features=5000)  # Adjust max_features as needed\n",
    "X_train_tfidf = tfidf_vectorizer.fit_transform(X_train)\n",
    "X_test_tfidf = tfidf_vectorizer.transform(X_test)\n"
   ]
  },
  {
   "cell_type": "code",
   "execution_count": 20,
   "id": "8ba4ad8e",
   "metadata": {},
   "outputs": [
    {
     "name": "stdout",
     "output_type": "stream",
     "text": [
      "          ID                             TITLE PREDICTED_GENRE\n",
      "0          1             Edgar's Lunch (1998)           drama \n",
      "1          2         La guerra de papá (1977)           drama \n",
      "2          3      Off the Beaten Track (2010)     documentary \n",
      "3          4           Meu Amigo Hindu (2015)           drama \n",
      "4          5                Er nu zhai (1955)           drama \n",
      "...      ...                               ...             ...\n",
      "54195  54196   \"Tales of Light & Dark\" (2013)           drama \n",
      "54196  54197      Der letzte Mohikaner (1965)           drama \n",
      "54197  54198              Oliver Twink (2007)          comedy \n",
      "54198  54199                Slipstream (1973)           drama \n",
      "54199  54200        Curitiba Zero Grau (2010)     documentary \n",
      "\n",
      "[54200 rows x 3 columns]\n"
     ]
    }
   ],
   "source": [
    "# Train Naive Bayes Classifier\n",
    "naive_bayes_classifier = MultinomialNB()\n",
    "naive_bayes_classifier.fit(X_train_tfidf, y_train)\n",
    "\n",
    "# Make Predictions\n",
    "predictions = naive_bayes_classifier.predict(X_test_tfidf)\n",
    "\n",
    "# If you want to see the predictions along with titles and IDs\n",
    "predictions_df = pd.DataFrame({'ID': test_df['ID'], 'TITLE': test_df['TITLE'], 'PREDICTED_GENRE': predictions})\n",
    "\n",
    "# Step 8: Display Predictions (optional)\n",
    "print(predictions_df)"
   ]
  },
  {
   "cell_type": "code",
   "execution_count": null,
   "id": "ec484bd6",
   "metadata": {},
   "outputs": [],
   "source": []
  }
 ],
 "metadata": {
  "kernelspec": {
   "display_name": "Python 3 (ipykernel)",
   "language": "python",
   "name": "python3"
  },
  "language_info": {
   "codemirror_mode": {
    "name": "ipython",
    "version": 3
   },
   "file_extension": ".py",
   "mimetype": "text/x-python",
   "name": "python",
   "nbconvert_exporter": "python",
   "pygments_lexer": "ipython3",
   "version": "3.11.5"
  }
 },
 "nbformat": 4,
 "nbformat_minor": 5
}
